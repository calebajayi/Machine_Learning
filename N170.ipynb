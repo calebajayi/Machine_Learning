{
  "nbformat": 4,
  "nbformat_minor": 0,
  "metadata": {
    "colab": {
      "name": "N170.ipynb",
      "provenance": [],
      "authorship_tag": "ABX9TyOoTL/vsxkB9NA/oKE1kOPn",
      "include_colab_link": true
    },
    "kernelspec": {
      "name": "python3",
      "display_name": "Python 3"
    }
  },
  "cells": [
    {
      "cell_type": "markdown",
      "metadata": {
        "id": "view-in-github",
        "colab_type": "text"
      },
      "source": [
        "<a href=\"https://colab.research.google.com/github/calebajayi/Machine_Learning/blob/master/N170.ipynb\" target=\"_parent\"><img src=\"https://colab.research.google.com/assets/colab-badge.svg\" alt=\"Open In Colab\"/></a>"
      ]
    },
    {
      "cell_type": "code",
      "metadata": {
        "id": "TILovf4kzLC_"
      },
      "source": [
        "!pip install mne\r\n",
        "!pip install sklearn\r\n",
        "!pip install matplotlib\r\n",
        "# add plot inline in the page (not necessary in Spyder)\r\n"
      ],
      "execution_count": null,
      "outputs": []
    },
    {
      "cell_type": "code",
      "metadata": {
        "id": "Gy4z5jfLOsUB"
      },
      "source": [
        "#Handle imports and suppress verbosity\r\n",
        "import numpy as np\r\n",
        "import os\r\n",
        "os.environ['TF_CPP_MIN_LOG_LEVEL'] = '3'\r\n",
        "import mne\r\n",
        "import tensorflow as tf\r\n",
        "tf.get_logger().setLevel('ERROR')\r\n",
        "tf.autograph.set_verbosity(0)\r\n",
        "import matplotlib.pyplot as plt\r\n",
        "%matplotlib inline"
      ],
      "execution_count": null,
      "outputs": []
    },
    {
      "cell_type": "code",
      "metadata": {
        "id": "dkTlP0wW7sTy"
      },
      "source": [
        "from mne import io"
      ],
      "execution_count": null,
      "outputs": []
    },
    {
      "cell_type": "code",
      "metadata": {
        "id": "Nxvf5gtDG-oB"
      },
      "source": [
        "datafile = np.load(\".\\\\datasets\\\\sim_erps_50nA.npz\")\r\n"
      ],
      "execution_count": null,
      "outputs": []
    }
  ]
}