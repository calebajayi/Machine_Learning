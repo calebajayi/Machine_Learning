{
  "nbformat": 4,
  "nbformat_minor": 0,
  "metadata": {
    "colab": {
      "name": "N170.ipynb",
      "provenance": [],
      "collapsed_sections": [],
      "authorship_tag": "ABX9TyNBDvZ3aY83vkoXDA4uhQOd",
      "include_colab_link": true
    },
    "kernelspec": {
      "name": "python3",
      "display_name": "Python 3"
    }
  },
  "cells": [
    {
      "cell_type": "markdown",
      "metadata": {
        "id": "view-in-github",
        "colab_type": "text"
      },
      "source": [
        "<a href=\"https://colab.research.google.com/github/calebajayi/Machine_Learning/blob/master/N170.ipynb\" target=\"_parent\"><img src=\"https://colab.research.google.com/assets/colab-badge.svg\" alt=\"Open In Colab\"/></a>"
      ]
    },
    {
      "cell_type": "markdown",
      "metadata": {
        "id": "htLxAsFb_kMY"
      },
      "source": [
        "**Unmount Drive (Might or Might not be Needed)**\n",
        "**Allows to unmout drive**"
      ]
    },
    {
      "cell_type": "code",
      "metadata": {
        "id": "SYXKdyAvyRdv"
      },
      "source": [
        "from google.colab import drive\n",
        "drive.flush_and_unmount()"
      ],
      "execution_count": null,
      "outputs": []
    },
    {
      "cell_type": "markdown",
      "metadata": {
        "id": "Qm96O669y1AX"
      },
      "source": [
        "**Mount the google drive**"
      ]
    },
    {
      "cell_type": "code",
      "metadata": {
        "id": "EurAbT521QYU"
      },
      "source": [
        "from google.colab import drive\n",
        "drive.mount('/content/gdrive', force_remount=True)"
      ],
      "execution_count": null,
      "outputs": []
    },
    {
      "cell_type": "code",
      "metadata": {
        "id": "HpfDbR0y4kGh"
      },
      "source": [
        "!ls \"/content/gdrive/MyDrive/NLP\""
      ],
      "execution_count": null,
      "outputs": []
    },
    {
      "cell_type": "markdown",
      "metadata": {
        "id": "hb1bhsG1I1yE"
      },
      "source": [
        "**Installation requirements**\n",
        "\n",
        "---\n",
        "\n",
        "\n",
        "**Install mne, sklearn,matplotlib**\n",
        "\n",
        "\n"
      ]
    },
    {
      "cell_type": "code",
      "metadata": {
        "id": "TILovf4kzLC_",
        "colab": {
          "base_uri": "https://localhost:8080/"
        },
        "outputId": "1e52166b-87e5-46de-b53c-535fde527a35"
      },
      "source": [
        "!pip install mne\n",
        "!pip install sklearn\n",
        "!pip install matplotlib"
      ],
      "execution_count": 41,
      "outputs": [
        {
          "output_type": "stream",
          "text": [
            "Requirement already satisfied: mne in /usr/local/lib/python3.7/dist-packages (0.22.0)\n",
            "Requirement already satisfied: scipy>=0.17.1 in /usr/local/lib/python3.7/dist-packages (from mne) (1.4.1)\n",
            "Requirement already satisfied: numpy>=1.11.3 in /usr/local/lib/python3.7/dist-packages (from mne) (1.19.5)\n",
            "Requirement already satisfied: sklearn in /usr/local/lib/python3.7/dist-packages (0.0)\n",
            "Requirement already satisfied: scikit-learn in /usr/local/lib/python3.7/dist-packages (from sklearn) (0.22.2.post1)\n",
            "Requirement already satisfied: numpy>=1.11.0 in /usr/local/lib/python3.7/dist-packages (from scikit-learn->sklearn) (1.19.5)\n",
            "Requirement already satisfied: scipy>=0.17.0 in /usr/local/lib/python3.7/dist-packages (from scikit-learn->sklearn) (1.4.1)\n",
            "Requirement already satisfied: joblib>=0.11 in /usr/local/lib/python3.7/dist-packages (from scikit-learn->sklearn) (1.0.1)\n",
            "Requirement already satisfied: matplotlib in /usr/local/lib/python3.7/dist-packages (3.2.2)\n",
            "Requirement already satisfied: kiwisolver>=1.0.1 in /usr/local/lib/python3.7/dist-packages (from matplotlib) (1.3.1)\n",
            "Requirement already satisfied: cycler>=0.10 in /usr/local/lib/python3.7/dist-packages (from matplotlib) (0.10.0)\n",
            "Requirement already satisfied: python-dateutil>=2.1 in /usr/local/lib/python3.7/dist-packages (from matplotlib) (2.8.1)\n",
            "Requirement already satisfied: pyparsing!=2.0.4,!=2.1.2,!=2.1.6,>=2.0.1 in /usr/local/lib/python3.7/dist-packages (from matplotlib) (2.4.7)\n",
            "Requirement already satisfied: numpy>=1.11 in /usr/local/lib/python3.7/dist-packages (from matplotlib) (1.19.5)\n",
            "Requirement already satisfied: six in /usr/local/lib/python3.7/dist-packages (from cycler>=0.10->matplotlib) (1.15.0)\n"
          ],
          "name": "stdout"
        }
      ]
    },
    {
      "cell_type": "markdown",
      "metadata": {
        "id": "kt_fGC6vIy5p"
      },
      "source": [
        "**Handle Imports**"
      ]
    },
    {
      "cell_type": "code",
      "metadata": {
        "id": "Gy4z5jfLOsUB"
      },
      "source": [
        "#Handle imports and suppress verbosity\n",
        "import numpy as np\n",
        "import pandas as pd\n",
        "import os\n",
        "os.environ['TF_CPP_MIN_LOG_LEVEL'] = '3'\n",
        "import mne\n",
        "import tensorflow as tf\n",
        "import tensorflow.keras as keras\n",
        "tf.get_logger().setLevel('ERROR')\n",
        "tf.autograph.set_verbosity(0)\n",
        "from sklearn.metrics import accuracy_score, precision_score, recall_score\n",
        "from sklearn.model_selection import train_test_split\n",
        "from tensorflow.keras import layers, losses\n",
        "from tensorflow.keras.datasets import fashion_mnist\n",
        "from tensorflow.keras.models import Model\n",
        "\n",
        "import matplotlib.pyplot as plt\n",
        "%matplotlib inline"
      ],
      "execution_count": 42,
      "outputs": []
    },
    {
      "cell_type": "markdown",
      "metadata": {
        "id": "XByaL6yNIpMU"
      },
      "source": [
        "**Load the files from google drive**"
      ]
    },
    {
      "cell_type": "code",
      "metadata": {
        "id": "xqAUZSR7oWZG",
        "colab": {
          "base_uri": "https://localhost:8080/"
        },
        "outputId": "12166729-e967-4892-85a6-715f93d3ef58"
      },
      "source": [
        "subjects = ['1', '2', '3', '4', '5', '6', '7', '8', '9', '10', '11', '12', '13', '14', '15', '16', '17', '18', '19', '20', '21', '22', '23', '24', '25', '26', '27', '28', '29', '30', '31', '32', '33', '34', '35', '36', '37', '38', '39', '40', '41'];\n",
        "result = []\n",
        "SUB = ['1', '2', '3', '4', '5', '6', '7', '8', '9', '10', '11', '12', '13', '14', '15', '16', '17', '18', '19', '20', '21', '22', '23', '24', '25', '26', '27', '28', '29', '30', '31', '32', '33', '34', '35', '36', '37', '38', '39', '40'];\n",
        "listToStr = '/content/gdrive/MyDrive/NLP/1_N170_shifted.set'\n",
        "for counter in range(1, 41):\n",
        "    s = list(listToStr)\n",
        "    c = [int(i) for i in str(counter)]\n",
        "    if len(s) == 46:\n",
        "        s[28] = counter\n",
        "    elif len(s) == 47:\n",
        "        s[28] = c[0]\n",
        "        s[29] = c[1]\n",
        "    # using list comprehension\n",
        "    listToStr = ''.join(map(str, s))\n",
        "    result.append(listToStr)\n",
        "    #print(result)\n",
        "counter = 0\n",
        "for i in result:\n",
        "   SUB[counter] = mne.io.read_raw_eeglab(i)\n",
        "   counter = counter + 1"
      ],
      "execution_count": 43,
      "outputs": [
        {
          "output_type": "stream",
          "text": [
            "Reading /content/gdrive/MyDrive/NLP/1_N170_shifted.fdt\n",
            "Reading /content/gdrive/MyDrive/NLP/2_N170_shifted.fdt\n",
            "Reading /content/gdrive/MyDrive/NLP/3_N170_shifted.fdt\n",
            "Reading /content/gdrive/MyDrive/NLP/4_N170_shifted.fdt\n",
            "Reading /content/gdrive/MyDrive/NLP/5_N170_shifted.fdt\n",
            "Reading /content/gdrive/MyDrive/NLP/6_N170_shifted.fdt\n",
            "Reading /content/gdrive/MyDrive/NLP/7_N170_shifted.fdt\n",
            "Reading /content/gdrive/MyDrive/NLP/8_N170_shifted.fdt\n",
            "Reading /content/gdrive/MyDrive/NLP/9_N170_shifted.fdt\n",
            "Reading /content/gdrive/MyDrive/NLP/10_N170_shifted.fdt\n",
            "Reading /content/gdrive/MyDrive/NLP/11_N170_shifted.fdt\n",
            "Reading /content/gdrive/MyDrive/NLP/12_N170_shifted.fdt\n",
            "Reading /content/gdrive/MyDrive/NLP/13_N170_shifted.fdt\n",
            "Reading /content/gdrive/MyDrive/NLP/14_N170_shifted.fdt\n",
            "Reading /content/gdrive/MyDrive/NLP/15_N170_shifted.fdt\n",
            "Reading /content/gdrive/MyDrive/NLP/16_N170_shifted.fdt\n",
            "Reading /content/gdrive/MyDrive/NLP/17_N170_shifted.fdt\n",
            "Reading /content/gdrive/MyDrive/NLP/18_N170_shifted.fdt\n",
            "Reading /content/gdrive/MyDrive/NLP/19_N170_shifted.fdt\n",
            "Reading /content/gdrive/MyDrive/NLP/20_N170_shifted.fdt\n",
            "Reading /content/gdrive/MyDrive/NLP/21_N170_shifted.fdt\n",
            "Reading /content/gdrive/MyDrive/NLP/22_N170_shifted.fdt\n",
            "Reading /content/gdrive/MyDrive/NLP/23_N170_shifted.fdt\n",
            "Reading /content/gdrive/MyDrive/NLP/24_N170_shifted.fdt\n",
            "Reading /content/gdrive/MyDrive/NLP/25_N170_shifted.fdt\n",
            "Reading /content/gdrive/MyDrive/NLP/26_N170_shifted.fdt\n",
            "Reading /content/gdrive/MyDrive/NLP/27_N170_shifted.fdt\n",
            "Reading /content/gdrive/MyDrive/NLP/28_N170_shifted.fdt\n",
            "Reading /content/gdrive/MyDrive/NLP/29_N170_shifted.fdt\n",
            "Reading /content/gdrive/MyDrive/NLP/30_N170_shifted.fdt\n",
            "Reading /content/gdrive/MyDrive/NLP/31_N170_shifted.fdt\n",
            "Reading /content/gdrive/MyDrive/NLP/32_N170_shifted.fdt\n",
            "Reading /content/gdrive/MyDrive/NLP/33_N170_shifted.fdt\n",
            "Reading /content/gdrive/MyDrive/NLP/34_N170_shifted.fdt\n",
            "Reading /content/gdrive/MyDrive/NLP/35_N170_shifted.fdt\n",
            "Reading /content/gdrive/MyDrive/NLP/36_N170_shifted.fdt\n",
            "Reading /content/gdrive/MyDrive/NLP/37_N170_shifted.fdt\n",
            "Reading /content/gdrive/MyDrive/NLP/38_N170_shifted.fdt\n",
            "Reading /content/gdrive/MyDrive/NLP/39_N170_shifted.fdt\n",
            "Reading /content/gdrive/MyDrive/NLP/40_N170_shifted.fdt\n"
          ],
          "name": "stdout"
        }
      ]
    },
    {
      "cell_type": "markdown",
      "metadata": {
        "id": "rOyEhO_aI_bV"
      },
      "source": [
        "**Processing the data for subject 1**\n",
        "\n",
        "---\n",
        "\n",
        "\n",
        "**Resampling**\n",
        "\n",
        "---\n",
        "\n",
        "\n",
        "**Filter**\n",
        "\n",
        "---\n",
        "\n",
        "\n",
        "**Reference**\n",
        "\n",
        "---\n",
        "\n",
        "\n",
        "**Annotations**"
      ]
    },
    {
      "cell_type": "code",
      "metadata": {
        "id": "6TGrs6tINCkm",
        "colab": {
          "base_uri": "https://localhost:8080/"
        },
        "outputId": "00e541f6-9114-4fa8-bfe1-4de967f8eb0f"
      },
      "source": [
        "subject1 = SUB[0] # Subject 1 is the first file we read.\n",
        "#print(subject1)\n",
        "subject1.resample(256) # downsample\n",
        "subject1.filter(1, None, fir_design=\"firwin\") # removing low freq between 0-1(noise)\n",
        "subject1.set_eeg_reference(\"average\")\n",
        "#print(subject1.annotations[0])\n",
        "print(len(subject1.annotations))\n",
        "#print(set(subject1.annotations.duration))\n",
        "#print(((subject1.annotations.description)))\n",
        "#print(subject1.annotations.onset)\n",
        "#events_from_annot, event_dict = mne.events_from_annotations(subject1)\n",
        "#print(len(event_dict))\n",
        "#print(events_from_annot)\n",
        "#print('Event_ID:',(events_from_annot[:, 2]))\n"
      ],
      "execution_count": 44,
      "outputs": [
        {
          "output_type": "stream",
          "text": [
            "Filtering raw data in 1 contiguous segment\n",
            "Setting up high-pass filter at 1 Hz\n",
            "\n",
            "FIR filter parameters\n",
            "---------------------\n",
            "Designing a one-pass, zero-phase, non-causal highpass filter:\n",
            "- Windowed time-domain design (firwin) method\n",
            "- Hamming window with 0.0194 passband ripple and 53 dB stopband attenuation\n",
            "- Lower passband edge: 1.00\n",
            "- Lower transition bandwidth: 1.00 Hz (-6 dB cutoff frequency: 0.50 Hz)\n",
            "- Filter length: 845 samples (3.301 sec)\n",
            "\n",
            "EEG channel type selected for re-referencing\n",
            "Applying average reference.\n",
            "Applying a custom EEG reference.\n",
            "640\n"
          ],
          "name": "stdout"
        }
      ]
    },
    {
      "cell_type": "markdown",
      "metadata": {
        "id": "vqiMd8UVheDO"
      },
      "source": [
        "Isolate Annotations. Descriptions holds the event codes and onset holds the start time of the signal. Annotations is a ordered dictionary with 4 columns. [('onset', 1.641602), ('duration', 0.0), ('description', '202'), ('orig_time', None)])"
      ]
    },
    {
      "cell_type": "code",
      "metadata": {
        "id": "8IL6Ktzna4xJ",
        "colab": {
          "base_uri": "https://localhost:8080/"
        },
        "outputId": "2b71e4a4-6a94-464b-d0f1-5dad1430ce64"
      },
      "source": [
        "onset = [''] * len(subject1.annotations.description)\n",
        "description = [''] * len(subject1.annotations) \n",
        "\n",
        "for counter in range(len(subject1.annotations.description)):\n",
        "  description[counter] = subject1.annotations.description[counter]\n",
        "#print(description)\n",
        "for counter in range(len(subject1.annotations.onset)):\n",
        "  onset[counter] = subject1.annotations.onset[counter]\n",
        "print(onset)\n",
        "\n"
      ],
      "execution_count": 45,
      "outputs": [
        {
          "output_type": "stream",
          "text": [
            "[1.641602, 10.769531, 15.075195, 15.712891, 16.624023, 17.121094, 18.057617, 18.521484, 19.639648, 20.193359, 21.189453, 21.745117, 22.755859, 23.056641, 24.321289, 24.705078, 25.887695, 26.289062, 27.336914, 27.705078, 28.803711, 29.201172, 30.385742, 30.816406, 31.885742, 32.272461, 33.46875, 33.856445, 35.03418, 35.384766, 36.633789, 37.064453, 38.233398, 38.608398, 39.732422, 40.224609, 41.298828, 41.800781, 42.764648, 43.216797, 44.248047, 44.833008, 45.74707, 46.216797, 47.330078, 47.888672, 48.929688, 49.504883, 50.395508, 50.936523, 51.912109, 52.408203, 53.510742, 54.016602, 54.944336, 55.375977, 56.459961, 56.936523, 57.959961, 58.608398, 59.359375, 59.87207, 60.875, 61.288086, 62.424805, 62.856445, 63.890625, 64.328125, 65.490234, 66.064453, 67.023438, 67.503906, 68.522461, 69.104492, 70.055664, 70.624023, 71.571289, 72.240234, 73.137695, 73.543945, 74.669922, 75.21582, 112.573242, 113.119141, 114.073242, 114.470703, 115.472656, 115.806641, 117.004883, 117.50293, 118.4375, 119.054688, 119.854492, 120.294922, 121.419922, 121.783203, 122.886719, 123.262695, 124.335938, 124.798828, 125.735352, 126.207031, 127.318359, 127.838867, 128.78418, 129.199219, 130.383789, 130.798828, 131.866211, 132.270508, 133.416016, 133.750977, 134.982422, 135.310547, 136.464844, 136.774414, 137.897461, 138.294922, 139.380859, 139.93457, 140.84668, 141.422852, 142.3125, 142.838867, 143.779297, 144.382812, 145.311523, 145.686523, 146.828125, 147.254883, 148.34375, 148.766602, 149.860352, 150.198242, 151.40918, 151.998047, 153.008789, 153.381836, 154.575195, 155.150391, 156.107422, 156.62207, 157.574219, 158.014648, 159.139648, 159.582031, 160.606445, 161.238281, 162.138672, 162.582031, 163.554688, 163.973633, 164.988281, 165.509766, 166.420898, 166.837891, 168.020508, 168.637695, 169.585938, 169.973633, 171.185547, 171.541992, 214.320312, 214.892578, 215.802734, 216.188477, 217.335938, 217.65332, 218.801758, 219.205078, 220.318359, 220.844727, 221.750977, 222.132812, 223.300781, 223.612305, 224.75, 225.140625, 226.21582, 226.59668, 227.765625, 228.077148, 229.231445, 229.884766, 230.698242, 231.25293, 232.180664, 233.730469, 234.125, 235.146484, 235.476562, 236.595703, 236.94043, 238.078125, 238.612305, 239.561523, 240.324219, 241.010742, 241.540039, 242.543945, 242.932617, 244.042969, 244.419922, 245.625977, 246.180664, 247.158203, 247.660156, 248.741211, 249.204102, 250.34082, 250.900391, 251.874023, 252.5, 253.439453, 254.083984, 255.022461, 255.476562, 256.538086, 257.091797, 258.137695, 258.732422, 259.6875, 260.179688, 261.219727, 261.62793, 262.719727, 263.147461, 264.286133, 264.71582, 265.71875, 266.204102, 267.201172, 267.835938, 268.617188, 269.244141, 270.083984, 270.651367, 271.533203, 272.124023, 273.066406, 273.748047, 317.100586, 317.602539, 318.533203, 318.90625, 320.015625, 320.378906, 321.56543, 321.866211, 322.998047, 323.738281, 324.581055, 325.042969, 326.147461, 326.570312, 327.646484, 328.050781, 329.212891, 329.666992, 330.628906, 331.386719, 332.177734, 332.5625, 333.760742, 334.09082, 335.176758, 335.618164, 336.660156, 337.12207, 338.125977, 338.578125, 339.541992, 340.154297, 341.091797, 341.682617, 342.658203, 343.098633, 344.057617, 344.801758, 345.473633, 346.194336, 347.039062, 347.673828, 348.456055, 348.929688, 349.938477, 350.522461, 351.521484, 352.12207, 353.086914, 353.59375, 354.669922, 355.833984, 356.169922, 356.713867, 357.751953, 358.505859, 359.301758, 359.801758, 360.78418, 361.881836, 362.250977, 362.793945, 363.700195, 364.097656, 365.200195, 365.969727, 366.616211, 367.105469, 368.032227, 368.601562, 369.464844, 370.105469, 371.047852, 371.561523, 372.613281, 373.401367, 374.113281, 374.673828, 375.512695, 375.969727, 408.333984, 409.056641, 409.78418, 410.224609, 411.25, 411.544922, 412.682617, 413.056641, 414.265625, 414.648438, 415.665039, 416.272461, 417.147461, 417.568359, 418.614258, 419.088867, 420.179688, 420.608398, 421.729492, 422.041016, 423.211914, 423.632812, 424.761719, 425.200195, 426.328125, 426.696289, 427.893555, 428.264648, 429.443359, 429.896484, 431.042969, 431.456055, 432.475586, 432.87207, 433.924805, 434.368164, 435.491211, 435.96875, 436.907227, 437.448242, 438.506836, 439.007812, 440.056641, 440.688477, 441.489258, 442.200195, 442.97168, 443.608398, 444.404297, 445.047852, 445.821289, 446.496094, 447.270508, 447.847656, 448.703125, 449.143555, 450.185547, 450.664062, 451.702148, 452.095703, 453.118164, 453.751953, 454.550781, 455.095703, 456.150391, 456.647461, 457.733398, 458.095703, 459.333008, 459.832031, 460.915039, 461.151367, 462.381836, 462.839844, 463.897461, 464.191406, 465.49707, 465.783203, 467.030273, 467.583984, 473.894531, 474.455078, 475.443359, 476.007812, 476.910156, 477.423828, 478.342773, 478.871094, 479.90918, 480.34375, 481.391602, 481.727539, 482.890625, 483.367188, 484.34082, 484.831055, 485.806641, 486.199219, 487.40625, 488.143555, 488.955078, 489.294922, 490.488281, 490.895508, 492.054688, 492.615234, 493.65332, 493.951172, 495.203125, 495.527344, 496.703125, 497.119141, 498.185547, 498.814453, 499.768555, 500.239258, 501.28418, 501.791016, 502.833984, 503.006836, 504.416992, 504.646484, 505.849609, 506.310547, 507.249023, 507.703125, 508.78125, 509.198242, 510.380859, 510.678711, 511.847656, 512.526367, 513.429688, 514.022461, 515.012695, 515.398438, 516.545898, 516.62207, 518.111328, 518.606445, 519.561523, 519.838867, 521.110352, 521.50293, 522.693359, 523.054688, 524.292969, 525.070312, 525.791992, 526.253906, 527.308594, 527.797852, 528.757812, 529.510742, 530.274414, 530.606445, 531.790039, 532.366211, 533.255859, 534.022461, 550.216797, 550.990234, 551.799805, 552.414062, 553.199219, 553.853516, 554.698242, 555.158203, 556.131836, 556.65332, 557.547852, 558.078125, 558.99707, 559.357422, 560.563477, 560.989258, 562.163086, 562.757812, 563.645508, 564.085938, 565.111328, 565.533203, 566.594727, 566.99707, 568.110352, 568.493164, 569.676758, 570.205078, 571.15918, 571.805664, 572.758789, 573.133789, 574.358398, 575.09375, 575.807617, 576.500977, 577.374023, 577.916992, 578.806641, 579.189453, 580.306641, 580.685547, 581.722656, 582.493164, 583.254883, 583.78125, 584.670898, 585.229492, 586.087891, 586.645508, 587.65332, 588.037109, 589.186523, 589.804688, 590.71875, 591.260742, 592.185547, 592.764648, 593.734375, 594.220703, 595.250977, 595.916992, 596.766602, 597.260742, 598.200195, 598.876953, 599.682617, 600.300781, 601.115234, 601.892578, 602.698242, 603.420898, 604.248047, 604.716797, 605.830078, 606.364258, 607.413086, 607.708984, 609.012695, 609.564453, 615.910156, 616.436523, 617.359375, 617.860352, 618.942383, 619.548828, 620.492188, 620.996094, 622.024414, 622.62793, 623.624023, 623.996094, 625.040039, 625.299805, 626.439453, 626.708008, 627.989258, 628.324219, 629.421875, 629.868164, 630.871094, 631.139648, 632.387695, 632.996094, 633.870117, 634.5, 635.286133, 635.740234, 636.885742, 637.387695, 638.435547, 638.956055, 639.901367, 640.620117, 641.350586, 641.923828, 642.833984, 643.347656, 644.400391, 644.771484, 645.916016, 646.395508, 647.482422, 647.97168, 648.898438, 649.475586, 650.397461, 650.931641, 651.831055, 652.339844, 653.313477, 653.62793, 654.746094, 655.1875, 656.279297, 656.819336, 657.811523, 658.267578, 659.261719, 659.795898, 660.710938, 661.451172, 662.226562, 662.579102, 663.642578, 664.083008, 665.125977, 665.626953, 666.708984, 666.803711, 668.307617, 669.807617, 669.915039, 671.323242, 671.851562, 672.806641, 673.195312, 674.305664, 674.834961]\n"
          ],
          "name": "stdout"
        }
      ]
    },
    {
      "cell_type": "markdown",
      "metadata": {
        "id": "gvHl2eQyVbSM"
      },
      "source": [
        "**Isolate both Response and Stimuli Events**\n",
        "\n",
        "---\n",
        "\n"
      ]
    },
    {
      "cell_type": "code",
      "metadata": {
        "id": "kZHagjPG_FUj"
      },
      "source": [
        "# Stimuli of events\n",
        "newDescription = [''] * len(description)\n",
        "faceEvent = []\n",
        "carEvent = []\n",
        "scrambledFaceEvent = []\n",
        "scrambledCarEvent = []\n",
        "correctEvent = []\n",
        "incorrectEvent = []\n",
        "for index, item in enumerate(description):\n",
        "  if int(item) >= 1 and int(item)<= 40:\n",
        "    newDescription[index] = 1\n",
        "    faceEvent.append(index)\n",
        "  if int(item) >= 41 and int(item)<= 80:\n",
        "    newDescription[index] = 2\n",
        "    carEvent.append(index)\n",
        "  if int(item) >= 101 and int(item)<= 140:\n",
        "    newDescription[index] = 3\n",
        "    scrambledFaceEvent.append(index)\n",
        "  if int(item) >= 141 and int(item)<= 180:\n",
        "    newDescription[index] = 4\n",
        "    scrambledCarEvent.append(index)\n",
        "  if int(item) == 202:\n",
        "    newDescription[index] = 5\n",
        "    incorrectEvent.append(index)\n",
        "  if int(item) == 201:\n",
        "    newDescription[index] = 6\n",
        "    correctEvent.append(index)\n",
        "  else:\n",
        "    pass\n",
        "\n",
        "# print('Index of Face Event:', faceEvent)\n",
        "# print('Length of list in face event:', len(faceEvent))\n",
        "# print('Index of Car Event:', carEvent)\n",
        "# print('Length of list in car event:', len(carEvent))\n",
        "# print('Index of Scrambled Faces Event:', scrambledFaceEvent)\n",
        "# print('Length of list in scrambled faces event:', len(scrambledFaceEvent))\n",
        "# print('Index of Scrambled Cars Event:', scrambledCarEvent)\n",
        "# print('Length of list in faces:', len(scrambledCarEvent))\n",
        "# print('Index of correct Event:', correctEvent)\n",
        "# print('Length of list in correct evennt:', len(correctEvent))\n",
        "# print('Index of incorrect Event:', incorrectEvent)\n",
        "# print('Length of list in incorrect Event:', len(incorrectEvent))"
      ],
      "execution_count": 46,
      "outputs": []
    },
    {
      "cell_type": "markdown",
      "metadata": {
        "id": "oaC0p-r8VoHD"
      },
      "source": [
        "**Isolate both Response and Stimuli Onset Times**"
      ]
    },
    {
      "cell_type": "code",
      "metadata": {
        "id": "tlU7dvaRlP23"
      },
      "source": [
        "# Onset of events\n",
        "faceOnset = []\n",
        "carOnset = []\n",
        "scrambledFaceOnset = []\n",
        "scrambledCarOnset = []\n",
        "correctOnset = []\n",
        "incorrectOnset = []\n",
        "for index, item in enumerate(onset):\n",
        "  if index in faceEvent: \n",
        "    faceOnset.append(item)\n",
        "  if index in carEvent: \n",
        "    carOnset.append(item)\n",
        "  if index in scrambledFaceEvent: \n",
        "    scrambledFaceOnset.append(item)\n",
        "  if index in scrambledCarEvent: \n",
        "    scrambledCarOnset.append(item) \n",
        "  if index in incorrectEvent:\n",
        "    incorrectOnset.append(item)\n",
        "  if index in correctEvent:\n",
        "    correctOnset.append(item)\n",
        "  else:\n",
        "    pass\n",
        "\n",
        "# print('Onset of Face:', faceOnset)\n",
        "# print('Length of list in faces:', len(faceOnset))\n",
        "# print('Onset of Car :', carOnset)\n",
        "# print('Length of list in car:', len(carOnset))\n",
        "# print('Onset of Scrambled Faces:', scrambledFaceOnset)\n",
        "# print('Length of list in Scrambled Faces:', len(scrambledFaceOnset))\n",
        "# print('Onset of Scrambled Cars:', scrambledCarOnset)\n",
        "# print('Length of list in Scrambled Car:',len(scrambledCarOnset))\n",
        "# print('Onset of correct:', correctOnset)\n",
        "# print('Length of list in correct:',len(correctOnset))\n",
        "# print('Onset of incorrect:', incorrectOnset)\n",
        "# print('Length of list in faces:', len(incorrectOnset))"
      ],
      "execution_count": 47,
      "outputs": []
    },
    {
      "cell_type": "markdown",
      "metadata": {
        "id": "FyeNO8QLS7F_"
      },
      "source": [
        "Loop Through Face Onset Lists and Extract 200ms before onset start and 800ms after.\n",
        "This is your signal to analysed"
      ]
    },
    {
      "cell_type": "code",
      "metadata": {
        "id": "EYah9f4XS6rw",
        "colab": {
          "base_uri": "https://localhost:8080/"
        },
        "outputId": "04975f02-a264-4a88-a4dc-c1647929830a"
      },
      "source": [
        "faceOnset_array = np.array(faceOnset)\n",
        "\n",
        "subject1_dropped = subject1.copy()\n",
        "print('Number of channels in raw_temp:')\n",
        "print(len(subject1_dropped.ch_names), end=' → drop three → ')\n",
        "subject1_dropped.drop_channels(['HEOG_left', 'HEOG_right', 'VEOG_lower'])\n",
        "print(len(subject1_dropped.ch_names))\n",
        "\n",
        "events_from_annot, event_dict = mne.events_from_annotations(subject1_dropped)\n",
        "\n",
        "# event_id = {'Face': 1, 'Car': 2, 'ScrambledFace': 3, 'ScrambledCar': 4,'Inorrect': 5, 'Correct': 6 } # Dict to hold events\n",
        "start_time, end_time = (-0.2, 0.8)  # epoch from 200 ms before event to 800 ms after it\n",
        "# picks = mne.pick_types(subject1.info, meg=False, eeg=True, stim=False, eog=False, exclude='bads')\n",
        "epochs = mne.Epochs(subject1_dropped, events_from_annot, tmin=start_time, tmax=end_time, proj=False\n",
        "                    ,verbose=True, preload=True, reject=None)\n",
        "data = epochs.get_data()\n",
        "print(data.shape)\n",
        "\n",
        "\n",
        "# for t in range(0, 639):\n",
        "#   trials = data[t:t+1, :,:] # slicing from first axis\n",
        "#   ####plt.plot(1e3 * epochs.times, 1e15 * trials[0])\n",
        "#   plt.plot(trials[0])\n",
        "#   plt.xlabel('Time (ms)')\n",
        "#   plt.ylabel('Data (ft)')\n",
        "#   plt.show()\n",
        "\n",
        "data = data.astype('float32') / 255. # Foating Numbers\n",
        "#data = data.reshape((len(data), np.prod(data.shape[1:]))) # Flatten the shape\n",
        "print(data.shape)\n",
        "\n",
        "# for t in range(0, 639):\n",
        "#   trials = data[t:t+1,:] # slicing from first axis\n",
        "#   plt.plot(trials[0])\n",
        "#   plt.xlabel('Time (ms)')\n",
        "#   plt.ylabel('Data (ft)')\n",
        "#   plt.show()"
      ],
      "execution_count": 66,
      "outputs": [
        {
          "output_type": "stream",
          "text": [
            "Number of channels in raw_temp:\n",
            "33 → drop three → 30\n",
            "Used Annotations descriptions: ['1', '10', '101', '102', '103', '104', '105', '106', '107', '108', '109', '11', '110', '111', '112', '113', '114', '115', '116', '117', '118', '119', '12', '120', '121', '122', '123', '124', '125', '126', '127', '128', '129', '13', '130', '131', '132', '133', '134', '135', '136', '137', '138', '139', '14', '140', '141', '142', '143', '144', '145', '146', '147', '148', '149', '15', '150', '151', '152', '153', '154', '155', '156', '157', '158', '159', '16', '160', '161', '162', '163', '164', '165', '166', '167', '168', '169', '17', '170', '171', '172', '173', '174', '175', '176', '177', '178', '179', '18', '180', '19', '2', '20', '201', '202', '21', '22', '23', '24', '25', '26', '27', '28', '29', '3', '30', '31', '32', '33', '34', '35', '36', '37', '38', '39', '4', '40', '41', '42', '43', '44', '45', '46', '47', '48', '49', '5', '50', '51', '52', '53', '54', '55', '56', '57', '58', '59', '6', '60', '61', '62', '63', '64', '65', '66', '67', '68', '69', '7', '70', '71', '72', '73', '74', '75', '76', '77', '78', '79', '8', '80', '9']\n",
            "Not setting metadata\n",
            "Not setting metadata\n",
            "640 matching events found\n",
            "Setting baseline interval to [-0.19921875, 0.0] sec\n",
            "Applying baseline correction (mode: mean)\n",
            "Loading data for 640 events and 257 original time points ...\n",
            "0 bad epochs dropped\n",
            "(640, 30, 257)\n",
            "(640, 30, 257)\n"
          ],
          "name": "stdout"
        }
      ]
    },
    {
      "cell_type": "code",
      "metadata": {
        "id": "v2iFqGlMbgqB"
      },
      "source": [
        "import keras\n",
        "from keras import layers\n",
        "from keras import regularizers\n",
        "\n",
        "#Define input size\n",
        "input_size = 257\n",
        "\n",
        "# Define how many nodes are activated in a layer\n",
        "hidden_size_1 = 128 # First layer compression\n",
        "hidden_size_2 = 64 # Second layer compression\n",
        "# This is the size of our encoded representations\n",
        "encoding_dim = 32  # 32 floats -> compression of factor 8, assuming the input is 257 floats\n",
        "\n",
        "# Encoder\n",
        "# \"encoded\" is the encoded representation of the input\n",
        "input_data = keras.Input(shape=(30, 257,))# This is our input data (Layer 1)\n",
        "encoded_layer_1 = layers.Dense(hidden_size_1, activation='relu')(input_data) # Encoder Layer 1\n",
        "encoded_layer_2 = layers.Dense(hidden_size_2, activation='relu')(encoded_layer_1)# Encoder Layer 2\n",
        "\n",
        "#Hidden Layer\n",
        "latent_rep = layers.Dense(encoding_dim, activation='relu')(encoded_layer_2) # Hidden Layer\n",
        "\n",
        "# \"decoded\" is the lossy reconstruction of the input\n",
        "decoded_layer_1 = layers.Dense(hidden_size_2, activation='relu')(latent_rep) # Decoder Layer 1\n",
        "decoded_layer_2 = layers.Dense(hidden_size_1, activation='relu')(decoded_layer_1) # Decoder Layer 2\n",
        "output_data = layers.Dense(input_size, activation='sigmoid')(decoded_layer_1) # Output Layer\n",
        "\n",
        "# This model maps an input to its reconstruction\n",
        "autoencoder = keras.Model(input_data, output_data, name=\"model1\")"
      ],
      "execution_count": 72,
      "outputs": []
    },
    {
      "cell_type": "code",
      "metadata": {
        "id": "aX0hRG5qbpLK"
      },
      "source": [
        "autoencoder.compile(optimizer='adam', loss='MeanSquaredError')"
      ],
      "execution_count": 73,
      "outputs": []
    },
    {
      "cell_type": "code",
      "metadata": {
        "id": "5OirN6CBcDkA"
      },
      "source": [
        "deep = autoencoder.fit(data, data, epochs=20)"
      ],
      "execution_count": null,
      "outputs": []
    },
    {
      "cell_type": "code",
      "metadata": {
        "id": "WpEB820w7PNG",
        "colab": {
          "base_uri": "https://localhost:8080/"
        },
        "outputId": "7f07f821-6c7b-402a-f44e-7cc4c014c025"
      },
      "source": [
        "# Find a way to comparede the decoded output to the original data\n",
        "# Create a function to compare\n",
        "\n",
        "encoded_data = encoder.predict(data)\n",
        "decoded_output  = decoder.predict(encoded_data)\n",
        "\n",
        "print(data.shape)\n",
        "print(output_data.shape)\n",
        "print(latent_rep.shape)\n",
        "\n",
        "#function to compare data to decodeded output\n",
        "#Asses reconstruction capacity\n"
      ],
      "execution_count": 76,
      "outputs": [
        {
          "output_type": "stream",
          "text": [
            "(640, 30, 257)\n",
            "(None, 30, 257)\n",
            "(None, 30, 32)\n"
          ],
          "name": "stdout"
        }
      ]
    },
    {
      "cell_type": "code",
      "metadata": {
        "id": "2oxExb2SBAtN"
      },
      "source": [
        "# Run the model\n",
        "autoencoder.summary()\n",
        "#reconstructed = autoencoder.predict(data)\n",
        "autoencoder.evaluate(data, data)"
      ],
      "execution_count": null,
      "outputs": []
    }
  ]
}