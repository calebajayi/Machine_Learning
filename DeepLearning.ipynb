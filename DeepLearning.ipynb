{
  "nbformat": 4,
  "nbformat_minor": 0,
  "metadata": {
    "accelerator": "GPU",
    "colab": {
      "name": "DeepLearning.ipynb",
      "provenance": [],
      "authorship_tag": "ABX9TyMnE4T8DpON+EkKgHn70WVk",
      "include_colab_link": true
    },
    "kernelspec": {
      "display_name": "Python 3",
      "name": "python3"
    }
  },
  "cells": [
    {
      "cell_type": "markdown",
      "metadata": {
        "id": "view-in-github",
        "colab_type": "text"
      },
      "source": [
        "<a href=\"https://colab.research.google.com/github/calebajayi/Machine_Learning/blob/master/DeepLearning.ipynb\" target=\"_parent\"><img src=\"https://colab.research.google.com/assets/colab-badge.svg\" alt=\"Open In Colab\"/></a>"
      ]
    },
    {
      "cell_type": "markdown",
      "metadata": {
        "id": "qOfzDdKm7unV"
      },
      "source": [
        "# Deep Learning Examples\r\n",
        "\r\n",
        "This is regular text\r\n",
        "\r\n",
        "\r\n",
        "\r\n",
        "```\r\n",
        "# This is formatted as code\r\n",
        "```\r\n",
        "\r\n"
      ]
    },
    {
      "cell_type": "code",
      "metadata": {
        "colab": {
          "background_save": true
        },
        "id": "DHznvdyX8Bkf"
      },
      "source": [
        "import numpy as np\r\n",
        "import matplotlib.pyplot as plt"
      ],
      "execution_count": null,
      "outputs": []
    },
    {
      "cell_type": "code",
      "metadata": {
        "colab": {
          "background_save": true
        },
        "id": "uwCeREG98dZy"
      },
      "source": [
        "x = np.linspace(0, 10*np.pi, 1000)\r\n",
        "y = np.sin(x)"
      ],
      "execution_count": null,
      "outputs": []
    },
    {
      "cell_type": "code",
      "metadata": {
        "colab": {
          "background_save": true
        },
        "id": "Xe4NIN-t8yBH"
      },
      "source": [
        "plt.plot(x, y)"
      ],
      "execution_count": null,
      "outputs": []
    },
    {
      "cell_type": "code",
      "metadata": {
        "id": "9dBwNLAuMt8Z"
      },
      "source": [
        "# download the data\r\n",
        "!wget https://archive.ics.uci.edu/ml/machine-learning-databases/arrhythmia/arrhythmia.data"
      ],
      "execution_count": null,
      "outputs": []
    },
    {
      "cell_type": "code",
      "metadata": {
        "colab": {
          "base_uri": "https://localhost:8080/"
        },
        "id": "MKs3WHk2NAgY",
        "outputId": "e7be7ec1-b599-458b-ed82-f5478f82266b"
      },
      "source": [
        "# list the files\r\n",
        "!ls"
      ],
      "execution_count": null,
      "outputs": [
        {
          "output_type": "stream",
          "text": [
            "arrhythmia.data  arrhythmia.data.1  arrhythmia.data.2  sample_data\n"
          ],
          "name": "stdout"
        }
      ]
    },
    {
      "cell_type": "code",
      "metadata": {
        "id": "1iSxgj1ONEYW"
      },
      "source": [
        "# check for headers\r\n",
        "!head arrhythmia.data"
      ],
      "execution_count": null,
      "outputs": []
    },
    {
      "cell_type": "code",
      "metadata": {
        "id": "olNGIZAVMeJU"
      },
      "source": [
        "# check the data\r\n",
        "import pandas as pd\r\n",
        "df = pd.read_csv('arrhythmia.data', header=None)"
      ],
      "execution_count": null,
      "outputs": []
    },
    {
      "cell_type": "code",
      "metadata": {
        "id": "tPTxZMnLNSab"
      },
      "source": [
        "# since the data has many columns, take the first few and nae them as per documentation\r\n",
        "data = df[[0,1,2,3,4,5]]\r\n",
        "data.columns = ['age', 'sex', 'height', 'weight', 'QRS duration', 'P-R interval']"
      ],
      "execution_count": null,
      "outputs": []
    },
    {
      "cell_type": "code",
      "metadata": {
        "id": "cxW3tdSUNTD2"
      },
      "source": [
        "import matplotlib.pyplot as plt\r\n",
        "plt.rcParams['figure.figsize'] = [15,15] # make the plot bigger so the subplot dont overlap\r\n",
        "data.hist(); # use a semicolon to supress return value"
      ],
      "execution_count": null,
      "outputs": []
    },
    {
      "cell_type": "code",
      "metadata": {
        "id": "1sz6SbM8OIxf"
      },
      "source": [
        "from pandas.plotting import scatter_matrix\r\n",
        "scatter_matrix(data);"
      ],
      "execution_count": null,
      "outputs": []
    },
    {
      "cell_type": "markdown",
      "metadata": {
        "id": "8fg7JsP7OW-L"
      },
      "source": [
        "# Using tf.keras"
      ]
    },
    {
      "cell_type": "code",
      "metadata": {
        "id": "8pmhassSOfX6"
      },
      "source": [
        "# use keras get_file to download the auto MPG dataset\r\n",
        "url = 'https://archive.ics.uci.edu/ml/machine-learning-databases/auto-mpg/auto-mpg.data'"
      ],
      "execution_count": null,
      "outputs": []
    },
    {
      "cell_type": "code",
      "metadata": {
        "colab": {
          "base_uri": "https://localhost:8080/"
        },
        "id": "OykHQowzO6Bg",
        "outputId": "5b605ad5-e6b5-42b8-e55f-14e90ed66650"
      },
      "source": [
        "# install tf\r\n",
        "!pip install -q tensorflow==2.0.0-beta1\r\n",
        "import tensorflow as tf\r\n",
        "print(tf.__version__)"
      ],
      "execution_count": null,
      "outputs": [
        {
          "output_type": "stream",
          "text": [
            "2.0.0-beta1\n"
          ],
          "name": "stdout"
        }
      ]
    },
    {
      "cell_type": "code",
      "metadata": {
        "colab": {
          "base_uri": "https://localhost:8080/",
          "height": 69
        },
        "id": "iCCJoc0yPK5R",
        "outputId": "417b6770-4546-4d0a-8565-63cdd19b1f97"
      },
      "source": [
        "#check out the documentation for arguments\r\n",
        "tf.keras.utils.get_file('auto-mpg.data', url)"
      ],
      "execution_count": null,
      "outputs": [
        {
          "output_type": "stream",
          "text": [
            "Downloading data from https://archive.ics.uci.edu/ml/machine-learning-databases/auto-mpg/auto-mpg.data\n",
            "32768/30286 [================================] - 0s 5us/step\n"
          ],
          "name": "stdout"
        },
        {
          "output_type": "execute_result",
          "data": {
            "application/vnd.google.colaboratory.intrinsic+json": {
              "type": "string"
            },
            "text/plain": [
              "'/root/.keras/datasets/auto-mpg.data'"
            ]
          },
          "metadata": {
            "tags": []
          },
          "execution_count": 57
        }
      ]
    },
    {
      "cell_type": "code",
      "metadata": {
        "id": "UOu7-C41UE44"
      },
      "source": [
        "!head /root/.keras/datasets/auto-mpg.data"
      ],
      "execution_count": null,
      "outputs": []
    },
    {
      "cell_type": "code",
      "metadata": {
        "id": "-D_vWK8LUZqK"
      },
      "source": [
        "# unless you pecify an alternative path data goeas into root/.keras/datasets\r\n",
        "df = pd.read_csv('/root/.keras/datasets/auto-mpg.data', header=None, delim_whitespace=True)\r\n",
        "df.head()"
      ],
      "execution_count": null,
      "outputs": []
    },
    {
      "cell_type": "markdown",
      "metadata": {
        "id": "KHr1iG8DU2n7"
      },
      "source": [
        "# Upload the File Yourself"
      ]
    },
    {
      "cell_type": "code",
      "metadata": {
        "id": "yw7U9-NBU5_w"
      },
      "source": [
        "# another method to upload your own file\r\n",
        "from google.colab import files\r\n",
        "uploaded = files.upload()"
      ],
      "execution_count": null,
      "outputs": []
    },
    {
      "cell_type": "code",
      "metadata": {
        "id": "Zy3JC33FVQ36"
      },
      "source": [
        "# uploaded"
      ],
      "execution_count": null,
      "outputs": []
    },
    {
      "cell_type": "code",
      "metadata": {
        "colab": {
          "base_uri": "https://localhost:8080/"
        },
        "id": "aWn1Rt3GVWlE",
        "outputId": "5e56434d-4ce5-4da9-e704-8811fadb3c41"
      },
      "source": [
        "# file is uploaded to current directory\r\n",
        "!ls"
      ],
      "execution_count": null,
      "outputs": [
        {
          "output_type": "stream",
          "text": [
            "'arrhythmia (1).data'   arrhythmia.data.1   sample_data\n",
            " arrhythmia.data        arrhythmia.data.2\n"
          ],
          "name": "stdout"
        }
      ]
    },
    {
      "cell_type": "code",
      "metadata": {
        "id": "wtDeuSkDVfNw"
      },
      "source": [
        "# open the file\r\n",
        "# the last few lines are junk\r\n",
        "df = pd.read_csv('daily-minimum-temperature-in-me.csv', error_bad_lines=False)"
      ],
      "execution_count": null,
      "outputs": []
    }
  ]
}